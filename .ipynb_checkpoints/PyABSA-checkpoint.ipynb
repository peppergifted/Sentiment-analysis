{
 "cells": [
  {
   "cell_type": "code",
   "execution_count": 2,
   "id": "bca48af0",
   "metadata": {
    "ExecuteTime": {
     "end_time": "2025-03-04T09:30:30.523455Z",
     "start_time": "2025-03-04T09:30:30.514295Z"
    }
   },
   "outputs": [],
   "source": [
    "from pyabsa import AspectPolarityClassification as APC, available_checkpoints"
   ]
  },
  {
   "cell_type": "code",
   "execution_count": 15,
   "id": "6bd7739d",
   "metadata": {
    "ExecuteTime": {
     "end_time": "2025-03-04T09:38:35.746280Z",
     "start_time": "2025-03-04T09:38:35.131925Z"
    }
   },
   "outputs": [
    {
     "name": "stdout",
     "output_type": "stream",
     "text": [
      "[2025-03-04 17:38:35] (2.4.1.post1) Please specify the task code, e.g. from pyabsa import TaskCodeOption\n"
     ]
    },
    {
     "data": {
      "text/plain": [
       "<pyabsa.framework.flag_class.flag_template.TaskCodeOption at 0x16b2304e0d0>"
      ]
     },
     "execution_count": 15,
     "metadata": {},
     "output_type": "execute_result"
    }
   ],
   "source": [
    "from pyabsa import TaskCodeOption\n",
    "checkpoint_map = available_checkpoints(show_ckpts=False)\n",
    "TaskCodeOption()"
   ]
  },
  {
   "cell_type": "code",
   "execution_count": 27,
   "id": "96c22864",
   "metadata": {
    "ExecuteTime": {
     "end_time": "2025-03-04T09:51:16.553995Z",
     "start_time": "2025-03-04T09:51:16.511413Z"
    }
   },
   "outputs": [
    {
     "name": "stderr",
     "output_type": "stream",
     "text": [
      "系统找不到指定的路径。\n",
      "sys:1: ResourceWarning: unclosed socket <zmq.Socket(zmq.PUSH) at 0x16b24866e20>\n",
      "ResourceWarning: Enable tracemalloc to get the object allocation traceback\n",
      "D:\\anaconda\\lib\\site-packages\\IPython\\utils\\_process_win32.py:145: ResourceWarning: unclosed file <_io.BufferedWriter name=5>\n",
      "  return process_handler(cmd, _system_body)\n",
      "ResourceWarning: Enable tracemalloc to get the object allocation traceback\n",
      "D:\\anaconda\\lib\\site-packages\\IPython\\utils\\_process_win32.py:145: ResourceWarning: unclosed file <_io.BufferedReader name=6>\n",
      "  return process_handler(cmd, _system_body)\n",
      "ResourceWarning: Enable tracemalloc to get the object allocation traceback\n",
      "D:\\anaconda\\lib\\site-packages\\IPython\\utils\\_process_win32.py:145: ResourceWarning: unclosed file <_io.BufferedReader name=7>\n",
      "  return process_handler(cmd, _system_body)\n",
      "ResourceWarning: Enable tracemalloc to get the object allocation traceback\n"
     ]
    }
   ],
   "source": [
    "!cd C:\\Users\\Pepper\\AppData\\Roaming\\Python\\Python39\\site-packages\\pyabsa\\tasks\\AspectPolarityClassification\\checkpoints\n"
   ]
  },
  {
   "cell_type": "code",
   "execution_count": 26,
   "id": "762ba4c0",
   "metadata": {
    "ExecuteTime": {
     "end_time": "2025-03-04T09:49:36.721941Z",
     "start_time": "2025-03-04T09:49:36.663212Z"
    },
    "hide_input": false
   },
   "outputs": [
    {
     "name": "stderr",
     "output_type": "stream",
     "text": [
      "'rm' 不是内部或外部命令，也不是可运行的程序\n",
      "或批处理文件。\n",
      "sys:1: ResourceWarning: unclosed socket <zmq.Socket(zmq.PUSH) at 0x16b24866280>\n",
      "ResourceWarning: Enable tracemalloc to get the object allocation traceback\n",
      "D:\\anaconda\\lib\\site-packages\\IPython\\utils\\_process_win32.py:145: ResourceWarning: unclosed file <_io.BufferedWriter name=5>\n",
      "  return process_handler(cmd, _system_body)\n",
      "ResourceWarning: Enable tracemalloc to get the object allocation traceback\n",
      "D:\\anaconda\\lib\\site-packages\\IPython\\utils\\_process_win32.py:145: ResourceWarning: unclosed file <_io.BufferedReader name=6>\n",
      "  return process_handler(cmd, _system_body)\n",
      "ResourceWarning: Enable tracemalloc to get the object allocation traceback\n",
      "D:\\anaconda\\lib\\site-packages\\IPython\\utils\\_process_win32.py:145: ResourceWarning: unclosed file <_io.BufferedReader name=7>\n",
      "  return process_handler(cmd, _system_body)\n",
      "ResourceWarning: Enable tracemalloc to get the object allocation traceback\n"
     ]
    }
   ],
   "source": [
    "!rm -rf checkpoints\\APC_MULTILINGUAL_CHECKPOINT\n"
   ]
  },
  {
   "cell_type": "code",
   "execution_count": 24,
   "id": "1550ab28",
   "metadata": {
    "ExecuteTime": {
     "end_time": "2025-03-04T09:46:50.259479Z",
     "start_time": "2025-03-04T09:46:48.663502Z"
    }
   },
   "outputs": [
    {
     "name": "stdout",
     "output_type": "stream",
     "text": [
      "[2025-03-04 17:46:48] (2.4.1.post1) Please specify the task code, e.g. from pyabsa import TaskCodeOption\n",
      "[2025-03-04 17:46:49] (2.4.1.post1) ********** Available APC model checkpoints for Version:2.4.1.post1 (this version) **********\n",
      "[2025-03-04 17:46:49] (2.4.1.post1) ********** Available APC model checkpoints for Version:2.4.1.post1 (this version) **********\n",
      "[2025-03-04 17:46:49] (2.4.1.post1) Downloading checkpoint:multilingual \n",
      "[2025-03-04 17:46:49] (2.4.1.post1) Notice: The pretrained model are used for testing, it is recommended to train the model on your own custom datasets\n",
      "[2025-03-04 17:46:49] (2.4.1.post1) Checkpoint already downloaded, skip\n",
      "[2025-03-04 17:46:49] (2.4.1.post1) Load sentiment classifier from checkpoints\\APC_MULTILINGUAL_CHECKPOINT\n",
      "[2025-03-04 17:46:49] (2.4.1.post1) config: checkpoints\\APC_MULTILINGUAL_CHECKPOINT\\fast_lcf_bert.config\n",
      "[2025-03-04 17:46:49] (2.4.1.post1) state_dict: checkpoints\\APC_MULTILINGUAL_CHECKPOINT\\fast_lcf_bert.state_dict\n",
      "[2025-03-04 17:46:49] (2.4.1.post1) model: None\n",
      "[2025-03-04 17:46:49] (2.4.1.post1) tokenizer: checkpoints\\APC_MULTILINGUAL_CHECKPOINT\\fast_lcf_bert.tokenizer\n",
      "[2025-03-04 17:46:50] (2.4.1.post1) Set Model Device: cuda:0\n",
      "[2025-03-04 17:46:50] (2.4.1.post1) Device Name: NVIDIA GeForce RTX 3050 Ti Laptop GPU\n"
     ]
    },
    {
     "ename": "RuntimeError",
     "evalue": "Fail to load the model from multilingual! Please make sure the version of checkpoint and PyABSA are compatible. Try to remove he checkpoint and download again \nException: 'DebertaV2TokenizerFast' object has no attribute 'clean_up_tokenization_spaces' ",
     "output_type": "error",
     "traceback": [
      "\u001b[1;31m---------------------------------------------------------------------------\u001b[0m",
      "\u001b[1;31mAttributeError\u001b[0m                            Traceback (most recent call last)",
      "\u001b[1;32m~\\AppData\\Roaming\\Python\\Python39\\site-packages\\pyabsa\\tasks\\AspectPolarityClassification\\prediction\\sentiment_classifier.py\u001b[0m in \u001b[0;36m__init__\u001b[1;34m(self, checkpoint, **kwargs)\u001b[0m\n\u001b[0;32m     82\u001b[0m                     \u001b[1;32mif\u001b[0m \u001b[0mstate_dict_path\u001b[0m\u001b[1;33m:\u001b[0m\u001b[1;33m\u001b[0m\u001b[1;33m\u001b[0m\u001b[0m\n\u001b[1;32m---> 83\u001b[1;33m                         self.model = APCEnsembler(\n\u001b[0m\u001b[0;32m     84\u001b[0m                             \u001b[0mself\u001b[0m\u001b[1;33m.\u001b[0m\u001b[0mconfig\u001b[0m\u001b[1;33m,\u001b[0m \u001b[0mload_dataset\u001b[0m\u001b[1;33m=\u001b[0m\u001b[1;32mFalse\u001b[0m\u001b[1;33m,\u001b[0m \u001b[1;33m**\u001b[0m\u001b[0mkwargs\u001b[0m\u001b[1;33m\u001b[0m\u001b[1;33m\u001b[0m\u001b[0m\n",
      "\u001b[1;32m~\\AppData\\Roaming\\Python\\Python39\\site-packages\\pyabsa\\tasks\\AspectPolarityClassification\\instructor\\ensembler.py\u001b[0m in \u001b[0;36m__init__\u001b[1;34m(self, config, load_dataset, **kwargs)\u001b[0m\n\u001b[0;32m     78\u001b[0m                     sorted(\n\u001b[1;32m---> 79\u001b[1;33m                         [\n\u001b[0m\u001b[0;32m     80\u001b[0m                             \u001b[0mstr\u001b[0m\u001b[1;33m(\u001b[0m\u001b[0mself\u001b[0m\u001b[1;33m.\u001b[0m\u001b[0mconfig\u001b[0m\u001b[1;33m.\u001b[0m\u001b[0margs\u001b[0m\u001b[1;33m[\u001b[0m\u001b[0mk\u001b[0m\u001b[1;33m]\u001b[0m\u001b[1;33m)\u001b[0m\u001b[1;33m\u001b[0m\u001b[1;33m\u001b[0m\u001b[0m\n",
      "\u001b[1;32m~\\AppData\\Roaming\\Python\\Python39\\site-packages\\pyabsa\\tasks\\AspectPolarityClassification\\instructor\\ensembler.py\u001b[0m in \u001b[0;36m<listcomp>\u001b[1;34m(.0)\u001b[0m\n\u001b[0;32m     79\u001b[0m                         [\n\u001b[1;32m---> 80\u001b[1;33m                             \u001b[0mstr\u001b[0m\u001b[1;33m(\u001b[0m\u001b[0mself\u001b[0m\u001b[1;33m.\u001b[0m\u001b[0mconfig\u001b[0m\u001b[1;33m.\u001b[0m\u001b[0margs\u001b[0m\u001b[1;33m[\u001b[0m\u001b[0mk\u001b[0m\u001b[1;33m]\u001b[0m\u001b[1;33m)\u001b[0m\u001b[1;33m\u001b[0m\u001b[1;33m\u001b[0m\u001b[0m\n\u001b[0m\u001b[0;32m     81\u001b[0m                             \u001b[1;32mfor\u001b[0m \u001b[0mk\u001b[0m \u001b[1;32min\u001b[0m \u001b[0mself\u001b[0m\u001b[1;33m.\u001b[0m\u001b[0mconfig\u001b[0m\u001b[1;33m.\u001b[0m\u001b[0margs\u001b[0m\u001b[1;33m\u001b[0m\u001b[1;33m\u001b[0m\u001b[0m\n",
      "\u001b[1;32m~\\AppData\\Roaming\\Python\\Python39\\site-packages\\transformers\\tokenization_utils_base.py\u001b[0m in \u001b[0;36m__repr__\u001b[1;34m(self)\u001b[0m\n\u001b[0;32m   1658\u001b[0m         \u001b[1;33m<\u001b[0m\u001b[1;33m/\u001b[0m\u001b[0mTip\u001b[0m\u001b[1;33m>\u001b[0m\u001b[1;33m\u001b[0m\u001b[1;33m\u001b[0m\u001b[0m\n\u001b[1;32m-> 1659\u001b[1;33m \u001b[1;33m\u001b[0m\u001b[0m\n\u001b[0m\u001b[0;32m   1660\u001b[0m         \u001b[0mExamples\u001b[0m\u001b[1;33m:\u001b[0m\u001b[1;33m\u001b[0m\u001b[1;33m\u001b[0m\u001b[0m\n",
      "\u001b[1;31mAttributeError\u001b[0m: 'DebertaV2TokenizerFast' object has no attribute 'clean_up_tokenization_spaces'",
      "\nDuring handling of the above exception, another exception occurred:\n",
      "\u001b[1;31mRuntimeError\u001b[0m                              Traceback (most recent call last)",
      "\u001b[1;32m~\\AppData\\Local\\Temp\\ipykernel_72812\\303692300.py\u001b[0m in \u001b[0;36m<module>\u001b[1;34m\u001b[0m\n\u001b[0;32m      4\u001b[0m \u001b[0mcheckpoint_map\u001b[0m \u001b[1;33m=\u001b[0m \u001b[0mavailable_checkpoints\u001b[0m\u001b[1;33m(\u001b[0m\u001b[0mshow_ckpts\u001b[0m\u001b[1;33m=\u001b[0m\u001b[1;32mTrue\u001b[0m\u001b[1;33m)\u001b[0m\u001b[1;33m\u001b[0m\u001b[1;33m\u001b[0m\u001b[0m\n\u001b[0;32m      5\u001b[0m \u001b[1;33m\u001b[0m\u001b[0m\n\u001b[1;32m----> 6\u001b[1;33m classifier = APC.SentimentClassifier('multilingual',\n\u001b[0m\u001b[0;32m      7\u001b[0m                                      \u001b[0mauto_device\u001b[0m\u001b[1;33m=\u001b[0m\u001b[1;32mTrue\u001b[0m\u001b[1;33m,\u001b[0m  \u001b[1;31m# False means load model on CPU\u001b[0m\u001b[1;33m\u001b[0m\u001b[1;33m\u001b[0m\u001b[0m\n\u001b[0;32m      8\u001b[0m                                      \u001b[0mcal_perplexity\u001b[0m\u001b[1;33m=\u001b[0m\u001b[1;32mTrue\u001b[0m\u001b[1;33m,\u001b[0m\u001b[1;33m\u001b[0m\u001b[1;33m\u001b[0m\u001b[0m\n",
      "\u001b[1;32m~\\AppData\\Roaming\\Python\\Python39\\site-packages\\pyabsa\\tasks\\AspectPolarityClassification\\prediction\\sentiment_classifier.py\u001b[0m in \u001b[0;36m__init__\u001b[1;34m(self, checkpoint, **kwargs)\u001b[0m\n\u001b[0;32m    102\u001b[0m \u001b[1;33m\u001b[0m\u001b[0m\n\u001b[0;32m    103\u001b[0m             \u001b[1;32mexcept\u001b[0m \u001b[0mException\u001b[0m \u001b[1;32mas\u001b[0m \u001b[0me\u001b[0m\u001b[1;33m:\u001b[0m\u001b[1;33m\u001b[0m\u001b[1;33m\u001b[0m\u001b[0m\n\u001b[1;32m--> 104\u001b[1;33m                 raise RuntimeError(\n\u001b[0m\u001b[0;32m    105\u001b[0m                     \u001b[1;34m\"Fail to load the model from {}! \"\u001b[0m\u001b[1;33m\u001b[0m\u001b[1;33m\u001b[0m\u001b[0m\n\u001b[0;32m    106\u001b[0m                     \u001b[1;34m\"Please make sure the version of checkpoint and PyABSA are compatible.\"\u001b[0m\u001b[1;33m\u001b[0m\u001b[1;33m\u001b[0m\u001b[0m\n",
      "\u001b[1;31mRuntimeError\u001b[0m: Fail to load the model from multilingual! Please make sure the version of checkpoint and PyABSA are compatible. Try to remove he checkpoint and download again \nException: 'DebertaV2TokenizerFast' object has no attribute 'clean_up_tokenization_spaces' "
     ]
    }
   ],
   "source": [
    "from pyabsa import AspectPolarityClassification as APC, available_checkpoints\n",
    "\n",
    "# you can view all available checkpoints by calling available_checkpoints()\n",
    "checkpoint_map = available_checkpoints(show_ckpts=True)\n",
    "\n",
    "classifier = APC.SentimentClassifier('multilingual',\n",
    "                                     auto_device=True,  # False means load model on CPU\n",
    "                                     cal_perplexity=True,\n",
    "                                     )\n",
    "\n",
    "# instance inference\n",
    "classifier.predict(['I love this movie, it is so great!'],\n",
    "                   save_result=True,\n",
    "                   print_result=True,  # print the result\n",
    "                   ignore_error=True,  # ignore the error when the model cannot predict the input\n",
    "                   )\n",
    "\n",
    "inference_source = APC.APCDatasetList.Laptop14\n",
    "apc_result = classifier.batch_predict(target_file=inference_source,  #\n",
    "                                      save_result=True,\n",
    "                                      print_result=True,  # print the result\n",
    "                                      pred_sentiment=True,  # Predict the sentiment of extracted aspect terms\n",
    "                                      )\n",
    "\n",
    "print(apc_result)\n"
   ]
  },
  {
   "cell_type": "code",
   "execution_count": null,
   "id": "86876c6e",
   "metadata": {
    "ExecuteTime": {
     "end_time": "2025-03-04T05:59:54.807038Z",
     "start_time": "2025-03-04T05:59:54.781698Z"
    }
   },
   "outputs": [],
   "source": []
  },
  {
   "cell_type": "code",
   "execution_count": null,
   "id": "bf5bd842",
   "metadata": {},
   "outputs": [],
   "source": []
  },
  {
   "cell_type": "code",
   "execution_count": 17,
   "id": "7abb40d8",
   "metadata": {
    "ExecuteTime": {
     "end_time": "2025-03-04T06:17:57.585141Z",
     "start_time": "2025-03-04T06:17:57.526022Z"
    }
   },
   "outputs": [],
   "source": [
    "\n",
    "\n"
   ]
  },
  {
   "cell_type": "code",
   "execution_count": null,
   "id": "af9da37d",
   "metadata": {},
   "outputs": [],
   "source": []
  },
  {
   "cell_type": "markdown",
   "id": "749d7d54",
   "metadata": {},
   "source": [
    "you are such a pig！"
   ]
  },
  {
   "cell_type": "code",
   "execution_count": null,
   "id": "f7950781",
   "metadata": {},
   "outputs": [],
   "source": []
  },
  {
   "cell_type": "code",
   "execution_count": null,
   "id": "e82cd08c",
   "metadata": {},
   "outputs": [],
   "source": []
  },
  {
   "cell_type": "code",
   "execution_count": null,
   "id": "a6ef3bf7",
   "metadata": {},
   "outputs": [],
   "source": []
  },
  {
   "cell_type": "code",
   "execution_count": null,
   "id": "22461dbd",
   "metadata": {},
   "outputs": [],
   "source": []
  },
  {
   "cell_type": "code",
   "execution_count": null,
   "id": "5abbb430",
   "metadata": {},
   "outputs": [],
   "source": []
  },
  {
   "cell_type": "code",
   "execution_count": null,
   "id": "63456d6e",
   "metadata": {},
   "outputs": [],
   "source": []
  },
  {
   "cell_type": "code",
   "execution_count": null,
   "id": "f28efced",
   "metadata": {},
   "outputs": [],
   "source": []
  },
  {
   "cell_type": "code",
   "execution_count": null,
   "id": "4d461ab3",
   "metadata": {},
   "outputs": [],
   "source": []
  }
 ],
 "metadata": {
  "kernelspec": {
   "display_name": "Python 3 (ipykernel)",
   "language": "python",
   "name": "python3"
  },
  "language_info": {
   "codemirror_mode": {
    "name": "ipython",
    "version": 3
   },
   "file_extension": ".py",
   "mimetype": "text/x-python",
   "name": "python",
   "nbconvert_exporter": "python",
   "pygments_lexer": "ipython3",
   "version": "3.9.13"
  },
  "toc": {
   "base_numbering": 1,
   "nav_menu": {},
   "number_sections": true,
   "sideBar": true,
   "skip_h1_title": false,
   "title_cell": "Table of Contents",
   "title_sidebar": "Contents",
   "toc_cell": false,
   "toc_position": {},
   "toc_section_display": true,
   "toc_window_display": false
  },
  "varInspector": {
   "cols": {
    "lenName": 16,
    "lenType": 16,
    "lenVar": 40
   },
   "kernels_config": {
    "python": {
     "delete_cmd_postfix": "",
     "delete_cmd_prefix": "del ",
     "library": "var_list.py",
     "varRefreshCmd": "print(var_dic_list())"
    },
    "r": {
     "delete_cmd_postfix": ") ",
     "delete_cmd_prefix": "rm(",
     "library": "var_list.r",
     "varRefreshCmd": "cat(var_dic_list()) "
    }
   },
   "types_to_exclude": [
    "module",
    "function",
    "builtin_function_or_method",
    "instance",
    "_Feature"
   ],
   "window_display": false
  }
 },
 "nbformat": 4,
 "nbformat_minor": 5
}
